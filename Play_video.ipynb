{
 "cells": [
  {
   "cell_type": "markdown",
   "metadata": {},
   "source": [
    "#  資料驗證 "
   ]
  },
  {
   "cell_type": "code",
   "execution_count": 38,
   "metadata": {},
   "outputs": [],
   "source": [
    "from pydantic import BaseModel, ValidationError, validator\n",
    "from dataclasses import dataclass\n",
    "from fastapi import FastAPI\n",
    "from pydantic import BaseModel,ValidationError, validator\n",
    "from typing import Optional\n",
    "import re\n",
    "class Command(BaseModel):\n",
    "    instruction:str\n",
    "    data:str = \"\"\n",
    "    # 驗證指令格式\n",
    "    @validator(\"instruction\",pre=True)\n",
    "    def check_instructions(cls, v):\n",
    "        Insturction_definition = [\"PLAY\",\"STOP\",\"NEXT\",\"LAST\",\"URL\"]\n",
    "        if v in Insturction_definition:\n",
    "            return v \n",
    "        else:\n",
    "            raise ValidationError\n",
    "    # 驗證url格式 轉換 id \n",
    "    @validator(\"data\",pre=True)\n",
    "    def check_url_to_id(cls,v):\n",
    "        # s = r\"[a-zA-Z0-9_-]{11}\"\n",
    "        pattern = \"^((?:https?:)?\\/\\/)?((?:www|m)\\.)?((?:youtube(-nocookie)?\\.com|youtu.be))(\\/(?:[\\w\\-]+\\?v=|embed\\/|v\\/)?)([\\w\\-]+)(\\S+)?$\"\n",
    "        # 1. 驗證url正確性\n",
    "        url_checker = re.compile(pattern)\n",
    "        result = url_checker.match(v)\n",
    "        # 2. 驗證ID正確性\n",
    "        id_checker = re.compile(r\"[A-Za-z0-9_\\-]{11}\")\n",
    "        # 3. 結果判別\n",
    "        if result != None:\n",
    "            if id_checker.match(result.groups()[5]): # 如果匹配的文字又長度文字又對上則視為正確\n",
    "                return result.groups()[5][0:11] #取得id 0~10個的文字\n",
    "        raise ValidationError\n",
    "\n",
    "URL = Command(instruction = \"URL\",data=\"https://www.youtube.com/watch?v=3vfum74ggHE\")\n",
    "\n",
    "\n"
   ]
  },
  {
   "cell_type": "markdown",
   "metadata": {},
   "source": [
    "# Play video"
   ]
  },
  {
   "cell_type": "code",
   "execution_count": null,
   "metadata": {},
   "outputs": [],
   "source": [
    "from dataclasses import dataclass\n",
    "from fastapi import FastAPI\n",
    "from pydantic import BaseModel\n",
    "import pydantic as pyda\n",
    "from typing import Optional,Set\n",
    "import re\n",
    "import TYPE.py\n",
    "\n",
    "youtube_id_checker = pyda.constr(regex=r\"[a-zA-Z0-9_-]{11}\")\n",
    "class parse_video(BaseModel):\n",
    "    pass\n",
    "\n",
    "class player(BaseModel):\n",
    "    uuid:str\n",
    "    def play(self,url)->str:\n",
    "        pass\n",
    "\n",
    "\n",
    "\n"
   ]
  }
 ],
 "metadata": {
  "kernelspec": {
   "display_name": "Python 3.10.6 64-bit",
   "language": "python",
   "name": "python3"
  },
  "language_info": {
   "codemirror_mode": {
    "name": "ipython",
    "version": 3
   },
   "file_extension": ".py",
   "mimetype": "text/x-python",
   "name": "python",
   "nbconvert_exporter": "python",
   "pygments_lexer": "ipython3",
   "version": "3.10.6"
  },
  "orig_nbformat": 4,
  "vscode": {
   "interpreter": {
    "hash": "e261ef090d81a4146804326fe048341ae181a2e90c498e25bece4d3ce4ed8c39"
   }
  }
 },
 "nbformat": 4,
 "nbformat_minor": 2
}
